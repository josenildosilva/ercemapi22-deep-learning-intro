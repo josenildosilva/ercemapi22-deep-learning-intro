{
  "nbformat": 4,
  "nbformat_minor": 0,
  "metadata": {
    "colab": {
      "provenance": [],
      "collapsed_sections": [],
      "toc_visible": true
    },
    "kernelspec": {
      "name": "python3",
      "display_name": "Python 3"
    },
    "language_info": {
      "name": "python"
    },
    "accelerator": "GPU",
    "gpuClass": "standard"
  },
  "cells": [
    {
      "cell_type": "markdown",
      "source": [
        "# ERCEMAPI 2022\n",
        "\n",
        "## Minicurso **Introdução às Redes Neurais Profundas**\n",
        "\n",
        "## Parte I - Conceitos Básicos, TensorFlow e Keras\n",
        "\n",
        "Prof. Josenildo C. da Silva (IFMA)\n",
        "\n",
        "Prof. Raimundo Osvaldo Vieira (IFMA)\n"
      ],
      "metadata": {
        "id": "VEr_qLqm_AxL"
      }
    },
    {
      "cell_type": "markdown",
      "source": [
        "# Setup"
      ],
      "metadata": {
        "id": "eQKC63sYK6Sb"
      }
    },
    {
      "cell_type": "code",
      "source": [
        "import matplotlib as mpl\n",
        "import matplotlib.pyplot as plt"
      ],
      "metadata": {
        "id": "DiMj1xiKLBz6"
      },
      "execution_count": 1,
      "outputs": []
    },
    {
      "cell_type": "code",
      "source": [
        "import numpy as np\n",
        "from numpy import random"
      ],
      "metadata": {
        "id": "b7Kp29g6LdvW"
      },
      "execution_count": 2,
      "outputs": []
    },
    {
      "cell_type": "code",
      "source": [
        "#from sklearn.datasets import fetch_openml"
      ],
      "metadata": {
        "id": "OpgE6zf7QqsT"
      },
      "execution_count": 3,
      "outputs": []
    },
    {
      "cell_type": "code",
      "source": [
        "import tensorflow as tf"
      ],
      "metadata": {
        "id": "McVK11cQFJE_"
      },
      "execution_count": 4,
      "outputs": []
    },
    {
      "cell_type": "markdown",
      "source": [
        "# Representação de Dados para Redes Neurais"
      ],
      "metadata": {
        "id": "vzH6dBveHLXF"
      }
    },
    {
      "cell_type": "markdown",
      "source": [
        "Os dados em tensorflow são representados por estruturas especiais chamadas de tensores, discutidos em detalhes nas próximas seções.\n",
        "\n"
      ],
      "metadata": {
        "id": "PPL732u5HPnT"
      }
    },
    {
      "cell_type": "markdown",
      "source": [
        "## Tensores"
      ],
      "metadata": {
        "id": "QIvwpEOhHUFC"
      }
    },
    {
      "cell_type": "markdown",
      "source": [
        "Um **Tensor** é uma coleção de dados do mesmo tipo (dtype), geralmente números. São similares ao array do ```numpy``` . (Chollet,2021), Cap. 2"
      ],
      "metadata": {
        "id": "VstN36P6KBkv"
      }
    },
    {
      "cell_type": "markdown",
      "source": [
        "### Principais atributos de um Tensor"
      ],
      "metadata": {
        "id": "U6eYMnR8TUbK"
      }
    },
    {
      "cell_type": "markdown",
      "source": [
        "- Número de eixos (rank)\n",
        "- Formato (shape)\n",
        "- Tipo (dtype)"
      ],
      "metadata": {
        "id": "PnajGzcbUabL"
      }
    },
    {
      "cell_type": "markdown",
      "source": [
        "### Tensores de rank 0: escalares"
      ],
      "metadata": {
        "id": "B4ImHMqxHtfG"
      }
    },
    {
      "cell_type": "code",
      "source": [
        "x0 = np.array(12)"
      ],
      "metadata": {
        "id": "3i-NX1yuHZEf"
      },
      "execution_count": 5,
      "outputs": []
    },
    {
      "cell_type": "markdown",
      "source": [
        "Escalares não possuem dimensão, ou seja, são objetos de **dimensao zero**."
      ],
      "metadata": {
        "id": "iNJ_8oo4IOa6"
      }
    },
    {
      "cell_type": "code",
      "source": [
        "x0.ndim"
      ],
      "metadata": {
        "colab": {
          "base_uri": "https://localhost:8080/"
        },
        "id": "L1s59B8zHnCe",
        "outputId": "66acc096-e8c4-4e1e-b21d-99121d3284ea"
      },
      "execution_count": 6,
      "outputs": [
        {
          "output_type": "execute_result",
          "data": {
            "text/plain": [
              "0"
            ]
          },
          "metadata": {},
          "execution_count": 6
        }
      ]
    },
    {
      "cell_type": "code",
      "source": [
        "x0.shape"
      ],
      "metadata": {
        "colab": {
          "base_uri": "https://localhost:8080/"
        },
        "id": "0GRG7KaUU95y",
        "outputId": "5f5821c6-1ae9-43fe-f8c4-e7a060d2ec67"
      },
      "execution_count": 7,
      "outputs": [
        {
          "output_type": "execute_result",
          "data": {
            "text/plain": [
              "()"
            ]
          },
          "metadata": {},
          "execution_count": 7
        }
      ]
    },
    {
      "cell_type": "markdown",
      "source": [
        "### Tensores de rank 1: vetores"
      ],
      "metadata": {
        "id": "kpMNuXvlHzjD"
      }
    },
    {
      "cell_type": "code",
      "source": [
        "x1 = np.array([12,8,-1,4,56, 14])\n",
        "x1"
      ],
      "metadata": {
        "colab": {
          "base_uri": "https://localhost:8080/"
        },
        "id": "tLCNpoz-H8fQ",
        "outputId": "78c8f1ca-c80c-4923-b565-109b6ff22e81"
      },
      "execution_count": 8,
      "outputs": [
        {
          "output_type": "execute_result",
          "data": {
            "text/plain": [
              "array([12,  8, -1,  4, 56, 14])"
            ]
          },
          "metadata": {},
          "execution_count": 8
        }
      ]
    },
    {
      "cell_type": "markdown",
      "source": [
        "Vetores possuem **uma** dimensão"
      ],
      "metadata": {
        "id": "Bi5stAgBIJ5F"
      }
    },
    {
      "cell_type": "code",
      "source": [
        "x1.ndim"
      ],
      "metadata": {
        "colab": {
          "base_uri": "https://localhost:8080/"
        },
        "id": "HxKOglKJIGfp",
        "outputId": "e753fa0a-21de-4b8f-ac47-c5108edf4cc3"
      },
      "execution_count": 9,
      "outputs": [
        {
          "output_type": "execute_result",
          "data": {
            "text/plain": [
              "1"
            ]
          },
          "metadata": {},
          "execution_count": 9
        }
      ]
    },
    {
      "cell_type": "markdown",
      "source": [
        "Em particular, este tensor porssui 6 elementos na sua única dimensão. "
      ],
      "metadata": {
        "id": "x4c4sfUuIjyT"
      }
    },
    {
      "cell_type": "code",
      "source": [
        "x1.shape"
      ],
      "metadata": {
        "colab": {
          "base_uri": "https://localhost:8080/"
        },
        "id": "ty6uxAJ7Iqs7",
        "outputId": "bb353704-e70d-4d8d-9653-7feaa599db1c"
      },
      "execution_count": 10,
      "outputs": [
        {
          "output_type": "execute_result",
          "data": {
            "text/plain": [
              "(6,)"
            ]
          },
          "metadata": {},
          "execution_count": 10
        }
      ]
    },
    {
      "cell_type": "markdown",
      "source": [
        "### Tensores de rank 2: matrizes "
      ],
      "metadata": {
        "id": "ZruD9D6zJYYa"
      }
    },
    {
      "cell_type": "code",
      "source": [
        "x2 = np.array([[5, 78, 2, 34, 0], [6, 79, 3, 35, 1], [7, 80, 4, 36, 2]])"
      ],
      "metadata": {
        "id": "gccxdAPlJjRY"
      },
      "execution_count": 11,
      "outputs": []
    },
    {
      "cell_type": "markdown",
      "source": [
        "Este tensor possui duas dimensões"
      ],
      "metadata": {
        "id": "_ArGbI30J6DR"
      }
    },
    {
      "cell_type": "code",
      "source": [
        "x2.ndim"
      ],
      "metadata": {
        "colab": {
          "base_uri": "https://localhost:8080/"
        },
        "id": "OsG1iiaTJs10",
        "outputId": "a41d0e88-1814-4060-e629-e62e1b2b1e13"
      },
      "execution_count": 12,
      "outputs": [
        {
          "output_type": "execute_result",
          "data": {
            "text/plain": [
              "2"
            ]
          },
          "metadata": {},
          "execution_count": 12
        }
      ]
    },
    {
      "cell_type": "code",
      "source": [
        "x2.shape"
      ],
      "metadata": {
        "colab": {
          "base_uri": "https://localhost:8080/"
        },
        "id": "gQLSBmjZVCZI",
        "outputId": "00a1bd57-b92e-456b-ba92-0d17b48ac481"
      },
      "execution_count": 13,
      "outputs": [
        {
          "output_type": "execute_result",
          "data": {
            "text/plain": [
              "(3, 5)"
            ]
          },
          "metadata": {},
          "execution_count": 13
        }
      ]
    },
    {
      "cell_type": "markdown",
      "source": [
        "### Tensores de rank 3: cubos"
      ],
      "metadata": {
        "id": "hUkhNrtWL5z6"
      }
    },
    {
      "cell_type": "code",
      "source": [
        "x3 = np.array([[[5, 78, 2, 34, 0],\n",
        " [6, 79, 3, 35, 1],\n",
        " [7, 80, 4, 36, 2]],\n",
        " [[5, 78, 2, 34, 0],\n",
        " [6, 79, 3, 35, 1],\n",
        " [7, 80, 4, 36, 2]],\n",
        " [[5, 78, 2, 34, 0],\n",
        " [6, 79, 3, 35, 1],\n",
        " [7, 80, 4, 36, 2]]])"
      ],
      "metadata": {
        "id": "pfTSN8LjRMlt"
      },
      "execution_count": 14,
      "outputs": []
    },
    {
      "cell_type": "code",
      "source": [
        "x3.ndim"
      ],
      "metadata": {
        "colab": {
          "base_uri": "https://localhost:8080/"
        },
        "id": "TMLC5qnaRTTA",
        "outputId": "fc92e434-6c9f-433f-fc14-45af7f17ef4f"
      },
      "execution_count": 15,
      "outputs": [
        {
          "output_type": "execute_result",
          "data": {
            "text/plain": [
              "3"
            ]
          },
          "metadata": {},
          "execution_count": 15
        }
      ]
    },
    {
      "cell_type": "code",
      "source": [
        "x3.shape"
      ],
      "metadata": {
        "colab": {
          "base_uri": "https://localhost:8080/"
        },
        "id": "M5q4RTLTVM4K",
        "outputId": "74b97cbe-0357-42f9-f2c5-75cbdbe0aa1e"
      },
      "execution_count": 16,
      "outputs": [
        {
          "output_type": "execute_result",
          "data": {
            "text/plain": [
              "(3, 3, 5)"
            ]
          },
          "metadata": {},
          "execution_count": 16
        }
      ]
    },
    {
      "cell_type": "markdown",
      "source": [
        "### Tensores de rank maior que 3"
      ],
      "metadata": {
        "id": "zqJxU8qoVOuh"
      }
    },
    {
      "cell_type": "code",
      "source": [
        "x4 = np.array([x3,x3*2])\n",
        "print(x4)"
      ],
      "metadata": {
        "colab": {
          "base_uri": "https://localhost:8080/"
        },
        "id": "eghCpwUvRdzl",
        "outputId": "69bf89d9-e1c2-4f23-cc3d-6361ee0cdfec"
      },
      "execution_count": 17,
      "outputs": [
        {
          "output_type": "stream",
          "name": "stdout",
          "text": [
            "[[[[  5  78   2  34   0]\n",
            "   [  6  79   3  35   1]\n",
            "   [  7  80   4  36   2]]\n",
            "\n",
            "  [[  5  78   2  34   0]\n",
            "   [  6  79   3  35   1]\n",
            "   [  7  80   4  36   2]]\n",
            "\n",
            "  [[  5  78   2  34   0]\n",
            "   [  6  79   3  35   1]\n",
            "   [  7  80   4  36   2]]]\n",
            "\n",
            "\n",
            " [[[ 10 156   4  68   0]\n",
            "   [ 12 158   6  70   2]\n",
            "   [ 14 160   8  72   4]]\n",
            "\n",
            "  [[ 10 156   4  68   0]\n",
            "   [ 12 158   6  70   2]\n",
            "   [ 14 160   8  72   4]]\n",
            "\n",
            "  [[ 10 156   4  68   0]\n",
            "   [ 12 158   6  70   2]\n",
            "   [ 14 160   8  72   4]]]]\n"
          ]
        }
      ]
    },
    {
      "cell_type": "code",
      "source": [
        "x4.ndim"
      ],
      "metadata": {
        "colab": {
          "base_uri": "https://localhost:8080/"
        },
        "id": "LeGYmO93RjCp",
        "outputId": "adbb81b1-831e-41c2-fd8b-40f69cb7bff3"
      },
      "execution_count": 18,
      "outputs": [
        {
          "output_type": "execute_result",
          "data": {
            "text/plain": [
              "4"
            ]
          },
          "metadata": {},
          "execution_count": 18
        }
      ]
    },
    {
      "cell_type": "code",
      "source": [
        "x4.shape"
      ],
      "metadata": {
        "colab": {
          "base_uri": "https://localhost:8080/"
        },
        "id": "uFEbYFhmVFH9",
        "outputId": "863f9650-7c6a-4373-93a6-bdd1ace32255"
      },
      "execution_count": 19,
      "outputs": [
        {
          "output_type": "execute_result",
          "data": {
            "text/plain": [
              "(2, 3, 3, 5)"
            ]
          },
          "metadata": {},
          "execution_count": 19
        }
      ]
    },
    {
      "cell_type": "markdown",
      "source": [
        "**Exemplo 1**\n",
        "- Um dia da semana é um número, rank 0\n",
        "- Uma semana é um vetor de 7 dias, rank 1\n",
        "- Um mês é um vetor de 4 semanas, rank 2\n",
        "- Um ano é um vetor de 12 meses, rank 3\n",
        "- Uma década é um vetor de 10 anos, rank 4\n"
      ],
      "metadata": {
        "id": "iMCulnweR_JP"
      }
    },
    {
      "cell_type": "markdown",
      "source": [
        "**Exemplo 2**\n",
        "- Um pixel é representado por um valor, rank 0\n",
        "- Uma linha de uma imagem é um vetor de pixel, rank 1\n",
        "- Uma imagem é um constituido por linhas, rank 2\n",
        "- Uma imagem colorida possui uma imagem para cada canal, rank 3"
      ],
      "metadata": {
        "id": "_W6DTUJFSof8"
      }
    },
    {
      "cell_type": "markdown",
      "source": [
        "**Exemplo 3**"
      ],
      "metadata": {
        "id": "9xuxM8d7VjJ5"
      }
    },
    {
      "cell_type": "code",
      "source": [
        "from tensorflow.keras.datasets import mnist\n",
        "(train_images, train_labels), (test_images, test_labels) = mnist.load_data()"
      ],
      "metadata": {
        "colab": {
          "base_uri": "https://localhost:8080/"
        },
        "id": "WzvnTSp5TZD4",
        "outputId": "bfe51949-91fd-487f-a76c-9da3767adb8d"
      },
      "execution_count": 20,
      "outputs": [
        {
          "output_type": "stream",
          "name": "stdout",
          "text": [
            "Downloading data from https://storage.googleapis.com/tensorflow/tf-keras-datasets/mnist.npz\n",
            "11493376/11490434 [==============================] - 0s 0us/step\n",
            "11501568/11490434 [==============================] - 0s 0us/step\n"
          ]
        }
      ]
    },
    {
      "cell_type": "code",
      "source": [
        "train_images.ndim"
      ],
      "metadata": {
        "colab": {
          "base_uri": "https://localhost:8080/"
        },
        "id": "XUGNL9BMBFA4",
        "outputId": "436a4914-4c0b-4061-82fe-dbbacdd5d021"
      },
      "execution_count": 21,
      "outputs": [
        {
          "output_type": "execute_result",
          "data": {
            "text/plain": [
              "3"
            ]
          },
          "metadata": {},
          "execution_count": 21
        }
      ]
    },
    {
      "cell_type": "code",
      "source": [
        "train_images.shape"
      ],
      "metadata": {
        "colab": {
          "base_uri": "https://localhost:8080/"
        },
        "id": "Jc4e9ZLHBhzp",
        "outputId": "6407b31e-a8f5-4311-d932-040e6b44be83"
      },
      "execution_count": 22,
      "outputs": [
        {
          "output_type": "execute_result",
          "data": {
            "text/plain": [
              "(60000, 28, 28)"
            ]
          },
          "metadata": {},
          "execution_count": 22
        }
      ]
    },
    {
      "cell_type": "code",
      "source": [
        "digit_image = train_images[4] # se necessário use reshape(28,28)\n",
        "fig,ax = plt.subplots()\n",
        "ax.imshow(X=digit_image, cmap ='binary')\n",
        "plt.show()"
      ],
      "metadata": {
        "colab": {
          "base_uri": "https://localhost:8080/",
          "height": 265
        },
        "id": "MoEDRZB-Ter0",
        "outputId": "2cff8b3b-8363-4d7d-dd7e-e2e5e59ed88b"
      },
      "execution_count": 23,
      "outputs": [
        {
          "output_type": "display_data",
          "data": {
            "text/plain": [
              "<Figure size 432x288 with 1 Axes>"
            ],
            "image/png": "[encoded data removed]"
          },
          "metadata": {
            "needs_background": "light"
          }
        }
      ]
    },
    {
      "cell_type": "code",
      "source": [
        "train_images.dtype"
      ],
      "metadata": {
        "colab": {
          "base_uri": "https://localhost:8080/"
        },
        "id": "Vpp31djeV2HM",
        "outputId": "2f15e50e-71a7-4111-eb96-9fa24efb1010"
      },
      "execution_count": 24,
      "outputs": [
        {
          "output_type": "execute_result",
          "data": {
            "text/plain": [
              "dtype('uint8')"
            ]
          },
          "metadata": {},
          "execution_count": 24
        }
      ]
    },
    {
      "cell_type": "markdown",
      "source": [
        "## Manipulação de Tensores com Numpy"
      ],
      "metadata": {
        "id": "ZqRaaWa_WeU8"
      }
    },
    {
      "cell_type": "markdown",
      "source": [
        "### Mudar a forma (reshape)"
      ],
      "metadata": {
        "id": "avWKJBElAslE"
      }
    },
    {
      "cell_type": "code",
      "source": [
        "x = np.array([[0., 1.], [2., 3.], [4., 5.],[6.,7.]])"
      ],
      "metadata": {
        "id": "WDenyLIKAx1y"
      },
      "execution_count": 25,
      "outputs": []
    },
    {
      "cell_type": "code",
      "source": [
        "print(x)"
      ],
      "metadata": {
        "colab": {
          "base_uri": "https://localhost:8080/"
        },
        "id": "PGeQJfKAA0uy",
        "outputId": "d5082c2b-753c-4d2e-9f6d-5ca16bd16a53"
      },
      "execution_count": 26,
      "outputs": [
        {
          "output_type": "stream",
          "name": "stdout",
          "text": [
            "[[0. 1.]\n",
            " [2. 3.]\n",
            " [4. 5.]\n",
            " [6. 7.]]\n"
          ]
        }
      ]
    },
    {
      "cell_type": "code",
      "source": [
        "x.ndim"
      ],
      "metadata": {
        "colab": {
          "base_uri": "https://localhost:8080/"
        },
        "id": "Al-4D4hMCORl",
        "outputId": "21eeedb1-aba1-4072-9703-1a5503cdcf35"
      },
      "execution_count": 27,
      "outputs": [
        {
          "output_type": "execute_result",
          "data": {
            "text/plain": [
              "2"
            ]
          },
          "metadata": {},
          "execution_count": 27
        }
      ]
    },
    {
      "cell_type": "code",
      "source": [
        "x.shape"
      ],
      "metadata": {
        "colab": {
          "base_uri": "https://localhost:8080/"
        },
        "id": "VNu8wwn3B58Y",
        "outputId": "18270aca-6f13-4085-8314-7d65c9d61c43"
      },
      "execution_count": 28,
      "outputs": [
        {
          "output_type": "execute_result",
          "data": {
            "text/plain": [
              "(4, 2)"
            ]
          },
          "metadata": {},
          "execution_count": 28
        }
      ]
    },
    {
      "cell_type": "code",
      "source": [
        "x=x.reshape((2,2,2))"
      ],
      "metadata": {
        "id": "VMy8K7u3A23l"
      },
      "execution_count": 29,
      "outputs": []
    },
    {
      "cell_type": "code",
      "source": [
        "x.shape"
      ],
      "metadata": {
        "colab": {
          "base_uri": "https://localhost:8080/"
        },
        "id": "FEkRKDZPCb9r",
        "outputId": "7c3a24a1-be70-4d2d-a14f-d64cdd6f62c1"
      },
      "execution_count": 30,
      "outputs": [
        {
          "output_type": "execute_result",
          "data": {
            "text/plain": [
              "(2, 2, 2)"
            ]
          },
          "metadata": {},
          "execution_count": 30
        }
      ]
    },
    {
      "cell_type": "code",
      "source": [
        "print(x)"
      ],
      "metadata": {
        "colab": {
          "base_uri": "https://localhost:8080/"
        },
        "id": "Ay1g7LI7DYnT",
        "outputId": "52839ccd-d49f-45c4-f904-f571c0412895"
      },
      "execution_count": 31,
      "outputs": [
        {
          "output_type": "stream",
          "name": "stdout",
          "text": [
            "[[[0. 1.]\n",
            "  [2. 3.]]\n",
            "\n",
            " [[4. 5.]\n",
            "  [6. 7.]]]\n"
          ]
        }
      ]
    },
    {
      "cell_type": "markdown",
      "source": [
        "**Caso especial**: transposição"
      ],
      "metadata": {
        "id": "T6SfBYspBsCA"
      }
    },
    {
      "cell_type": "code",
      "source": [
        "x = np.array([[0., 1., 2.], [3.,4.,5.],[6.,7.,8.]])\n",
        "print(x)"
      ],
      "metadata": {
        "colab": {
          "base_uri": "https://localhost:8080/"
        },
        "id": "oBRmhI2sCQ8j",
        "outputId": "056cbad3-aae7-426a-8a7e-4db16f004a6f"
      },
      "execution_count": 32,
      "outputs": [
        {
          "output_type": "stream",
          "name": "stdout",
          "text": [
            "[[0. 1. 2.]\n",
            " [3. 4. 5.]\n",
            " [6. 7. 8.]]\n"
          ]
        }
      ]
    },
    {
      "cell_type": "code",
      "source": [
        "x.transpose()"
      ],
      "metadata": {
        "colab": {
          "base_uri": "https://localhost:8080/"
        },
        "id": "Pbq1q24TB14s",
        "outputId": "6f4b19ca-0aca-429f-df3f-eae40f8f4d37"
      },
      "execution_count": 33,
      "outputs": [
        {
          "output_type": "execute_result",
          "data": {
            "text/plain": [
              "array([[0., 3., 6.],\n",
              "       [1., 4., 7.],\n",
              "       [2., 5., 8.]])"
            ]
          },
          "metadata": {},
          "execution_count": 33
        }
      ]
    },
    {
      "cell_type": "markdown",
      "source": [
        "### Fatiamento"
      ],
      "metadata": {
        "id": "Y1HE2ZhbWjXq"
      }
    },
    {
      "cell_type": "code",
      "source": [
        "fatia = train_images[50:60]"
      ],
      "metadata": {
        "id": "Ii2fbvGYWpaY"
      },
      "execution_count": 34,
      "outputs": []
    },
    {
      "cell_type": "code",
      "source": [
        "fatia.ndim"
      ],
      "metadata": {
        "colab": {
          "base_uri": "https://localhost:8080/"
        },
        "id": "QcUzV85ZWxFs",
        "outputId": "8af42db2-5e97-46f9-ffe7-337a473a0465"
      },
      "execution_count": 35,
      "outputs": [
        {
          "output_type": "execute_result",
          "data": {
            "text/plain": [
              "3"
            ]
          },
          "metadata": {},
          "execution_count": 35
        }
      ]
    },
    {
      "cell_type": "code",
      "source": [
        "fatia.shape"
      ],
      "metadata": {
        "colab": {
          "base_uri": "https://localhost:8080/"
        },
        "id": "eUzWAyq5Wy4P",
        "outputId": "fea8065b-1b52-4795-d119-d8da5c93a0df"
      },
      "execution_count": 36,
      "outputs": [
        {
          "output_type": "execute_result",
          "data": {
            "text/plain": [
              "(10, 28, 28)"
            ]
          },
          "metadata": {},
          "execution_count": 36
        }
      ]
    },
    {
      "cell_type": "markdown",
      "source": [
        "Podemos selecionar fatias em qualquer dimensão. "
      ],
      "metadata": {
        "id": "6uZmcgMs58hc"
      }
    },
    {
      "cell_type": "code",
      "source": [
        "fatia = train_images[50:60,14:,14:]"
      ],
      "metadata": {
        "id": "7mQrL6Cg6FfP"
      },
      "execution_count": 37,
      "outputs": []
    },
    {
      "cell_type": "code",
      "source": [
        "import matplotlib.patches as patches\n",
        "crop = fatia[0].reshape(14,14)\n",
        "fig,(ax1,ax2) = plt.subplots(ncols=2)\n",
        "ax2.imshow(X=crop, cmap ='binary',origin='upper',extent=(14,28,28,14))\n",
        "ax1.imshow(X=train_images[50].reshape(28,28),cmap='binary',origin='upper')\n",
        "rect = patches.Rectangle((14,14), 14, 14, linewidth=1, edgecolor='r', facecolor='none')\n",
        "ax1.add_patch(rect)\n",
        "plt.show()"
      ],
      "metadata": {
        "colab": {
          "base_uri": "https://localhost:8080/",
          "height": 204
        },
        "id": "salo8EFb6Kia",
        "outputId": "8ab44547-b6ca-4f51-8579-114a158adc12"
      },
      "execution_count": 38,
      "outputs": [
        {
          "output_type": "display_data",
          "data": {
            "text/plain": [
              "<Figure size 432x288 with 2 Axes>"
            ],
            "image/png": "[encoded data removed]"
          },
          "metadata": {
            "needs_background": "light"
          }
        }
      ]
    },
    {
      "cell_type": "markdown",
      "source": [
        "Uma utilização frequente de fatiamente é a divisão de um dataset em *batches* para processamento durante o treinamento de uma rede neural"
      ],
      "metadata": {
        "id": "mRnnxsynAGcd"
      }
    },
    {
      "cell_type": "markdown",
      "source": [
        "### Produto entre tensores"
      ],
      "metadata": {
        "id": "Ndr33fcf_60W"
      }
    },
    {
      "cell_type": "markdown",
      "source": [
        "O produto entre tensores, ou dot product, é uma das operações fundamentais realizada durante o treinamento de uma rede neural.   \n"
      ],
      "metadata": {
        "id": "n30LmheMCTmT"
      }
    },
    {
      "cell_type": "markdown",
      "source": [
        "![image.png](data:image/png;base64,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)"
      ],
      "metadata": {
        "id": "UI84yWGNCOlm"
      }
    },
    {
      "cell_type": "code",
      "source": [
        "a=2\n",
        "b=3\n",
        "c=2\n",
        " \n",
        "x = np.random.random((a,b))\n",
        "y = np.random.random((b,c))\n",
        "z = np.dot(x, y)\n",
        "print(z)"
      ],
      "metadata": {
        "colab": {
          "base_uri": "https://localhost:8080/"
        },
        "id": "yKU0RP37CzyO",
        "outputId": "393d8c1a-1012-4c54-945e-30dc4d6dcf03"
      },
      "execution_count": 39,
      "outputs": [
        {
          "output_type": "stream",
          "name": "stdout",
          "text": [
            "[[0.12084369 0.19476588]\n",
            " [0.59003171 0.91599028]]\n"
          ]
        }
      ]
    },
    {
      "cell_type": "markdown",
      "source": [
        "# Tensorflow"
      ],
      "metadata": {
        "id": "u4KaU2DQWm-K"
      }
    },
    {
      "cell_type": "markdown",
      "source": [
        "**Tensorflow** é uma plataforma desenvolvida pela Google em Python para aprendizagem de máquina.  \n",
        "\n",
        "Provê varias funcionalidades similares ao numpy, mas extende o escopo em vários aspectos. \n",
        "- suporte para CPU, GPU, TPU\n",
        "- computação distribuída\n",
        "- exporta para C++, JavaScript, etc\n"
      ],
      "metadata": {
        "id": "ygol5A4MOlJk"
      }
    },
    {
      "cell_type": "markdown",
      "source": [
        "![tensor-flow-API.png](data:image/png;base64,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)"
      ],
      "metadata": {
        "id": "bFSsLfqfXDeq"
      }
    },
    {
      "cell_type": "markdown",
      "source": [
        "## Primeiros passos em TF (Chollet, 2nd Ed., Sec. 3.5 ) (Geron, Cap. 12)"
      ],
      "metadata": {
        "id": "ibgD9bTtad97"
      }
    },
    {
      "cell_type": "markdown",
      "source": [
        "### Constantes"
      ],
      "metadata": {
        "id": "0Np2i9fBalWJ"
      }
    },
    {
      "cell_type": "code",
      "source": [
        "a = tf.constant(5)\n",
        "a"
      ],
      "metadata": {
        "id": "DkisPGInWfaF",
        "colab": {
          "base_uri": "https://localhost:8080/"
        },
        "outputId": "6c205eed-d1e2-400b-8c6c-41efcf63d20b"
      },
      "execution_count": 40,
      "outputs": [
        {
          "output_type": "execute_result",
          "data": {
            "text/plain": [
              "<tf.Tensor: shape=(), dtype=int32, numpy=5>"
            ]
          },
          "metadata": {},
          "execution_count": 40
        }
      ]
    },
    {
      "cell_type": "code",
      "source": [
        "b = tf.constant([1,2,3])\n",
        "b"
      ],
      "metadata": {
        "colab": {
          "base_uri": "https://localhost:8080/"
        },
        "id": "zsp4JFloE4QQ",
        "outputId": "104923c3-a879-49fe-e408-bc1d65ec525a"
      },
      "execution_count": 41,
      "outputs": [
        {
          "output_type": "execute_result",
          "data": {
            "text/plain": [
              "<tf.Tensor: shape=(3,), dtype=int32, numpy=array([1, 2, 3], dtype=int32)>"
            ]
          },
          "metadata": {},
          "execution_count": 41
        }
      ]
    },
    {
      "cell_type": "code",
      "source": [
        "c= tf.constant([[1, 2],[3, 4]])\n",
        "c"
      ],
      "metadata": {
        "colab": {
          "base_uri": "https://localhost:8080/"
        },
        "id": "B8-YQwBvEb3D",
        "outputId": "b4d245b6-0fcf-4d99-bbeb-53caeced3b9d"
      },
      "execution_count": 42,
      "outputs": [
        {
          "output_type": "execute_result",
          "data": {
            "text/plain": [
              "<tf.Tensor: shape=(2, 2), dtype=int32, numpy=\n",
              "array([[1, 2],\n",
              "       [3, 4]], dtype=int32)>"
            ]
          },
          "metadata": {},
          "execution_count": 42
        }
      ]
    },
    {
      "cell_type": "markdown",
      "source": [
        "#### 0s e 1s"
      ],
      "metadata": {
        "id": "PbNyTNIRGDnJ"
      }
    },
    {
      "cell_type": "code",
      "source": [
        "x = tf.ones(shape=(3, 2)) \n",
        "print(x)"
      ],
      "metadata": {
        "colab": {
          "base_uri": "https://localhost:8080/"
        },
        "id": "bbr_0VfYFCYm",
        "outputId": "2bd7906d-d6a2-4cac-f2ef-b64c1e3c9162"
      },
      "execution_count": 43,
      "outputs": [
        {
          "output_type": "stream",
          "name": "stdout",
          "text": [
            "tf.Tensor(\n",
            "[[1. 1.]\n",
            " [1. 1.]\n",
            " [1. 1.]], shape=(3, 2), dtype=float32)\n"
          ]
        }
      ]
    },
    {
      "cell_type": "code",
      "source": [
        "x = tf.zeros(shape=(4,5))\n",
        "print(x)"
      ],
      "metadata": {
        "colab": {
          "base_uri": "https://localhost:8080/"
        },
        "id": "NNhoSH5UF4R0",
        "outputId": "00ce01e2-966d-47f6-81a8-51b3a453ffd4"
      },
      "execution_count": 44,
      "outputs": [
        {
          "output_type": "stream",
          "name": "stdout",
          "text": [
            "tf.Tensor(\n",
            "[[0. 0. 0. 0. 0.]\n",
            " [0. 0. 0. 0. 0.]\n",
            " [0. 0. 0. 0. 0.]\n",
            " [0. 0. 0. 0. 0.]], shape=(4, 5), dtype=float32)\n"
          ]
        }
      ]
    },
    {
      "cell_type": "markdown",
      "source": [
        "### Valores Aleatórios"
      ],
      "metadata": {
        "id": "k9_YgK6ZGQWN"
      }
    },
    {
      "cell_type": "code",
      "source": [
        "x = tf.random.normal(shape=(3000,), mean=0., stddev=1.)"
      ],
      "metadata": {
        "id": "Cru-jwIyRKNc"
      },
      "execution_count": 45,
      "outputs": []
    },
    {
      "cell_type": "code",
      "source": [
        "plt.hist(x)\n",
        "plt.show()"
      ],
      "metadata": {
        "colab": {
          "base_uri": "https://localhost:8080/",
          "height": 265
        },
        "id": "QMiykPGXRT-i",
        "outputId": "e742446d-64ce-49e4-e73a-f53fdd685079"
      },
      "execution_count": 46,
      "outputs": [
        {
          "output_type": "display_data",
          "data": {
            "text/plain": [
              "<Figure size 432x288 with 1 Axes>"
            ],
            "image/png": "[encoded data removed]"
          },
          "metadata": {
            "needs_background": "light"
          }
        }
      ]
    },
    {
      "cell_type": "code",
      "source": [
        "x = tf.random.normal(shape=(3, 2), mean=0., stddev=1.)\n",
        "x"
      ],
      "metadata": {
        "colab": {
          "base_uri": "https://localhost:8080/"
        },
        "id": "fdZOXJARSsYH",
        "outputId": "8cf00cae-d837-4478-83cf-a492bdad5cf7"
      },
      "execution_count": 47,
      "outputs": [
        {
          "output_type": "execute_result",
          "data": {
            "text/plain": [
              "<tf.Tensor: shape=(3, 2), dtype=float32, numpy=\n",
              "array([[ 3.0589097 ,  1.1717892 ],\n",
              "       [ 0.5625518 , -1.2959906 ],\n",
              "       [-0.57318103,  1.1338974 ]], dtype=float32)>"
            ]
          },
          "metadata": {},
          "execution_count": 47
        }
      ]
    },
    {
      "cell_type": "markdown",
      "source": [
        "⚠ **ATENÇÃO** ⚠\n",
        "\n",
        "Tensores são constantes no tensorflow"
      ],
      "metadata": {
        "id": "YZmA-SRtTv8k"
      }
    },
    {
      "cell_type": "code",
      "source": [
        "# Atribuição é ok em numpy\n",
        "x = np.ones(shape=(2, 2))\n",
        "x[0, 0] = 0.\n",
        "x"
      ],
      "metadata": {
        "colab": {
          "base_uri": "https://localhost:8080/"
        },
        "id": "NzBTWOJpUryy",
        "outputId": "53aa94c3-351c-493f-95ca-85264d59eb79"
      },
      "execution_count": 48,
      "outputs": [
        {
          "output_type": "execute_result",
          "data": {
            "text/plain": [
              "array([[0., 1.],\n",
              "       [1., 1.]])"
            ]
          },
          "metadata": {},
          "execution_count": 48
        }
      ]
    },
    {
      "cell_type": "code",
      "source": [
        "# Atribuição gera erro tem tensorflow!\n",
        "x = tf.ones(shape=(2, 2))\n",
        "x[0, 0] = 0. "
      ],
      "metadata": {
        "colab": {
          "base_uri": "https://localhost:8080/",
          "height": 206
        },
        "id": "S_e_pBsyUd5d",
        "outputId": "6aca1d91-6b08-4cd4-cfdf-11d65ffa48cc"
      },
      "execution_count": 49,
      "outputs": [
        {
          "output_type": "error",
          "ename": "TypeError",
          "evalue": "ignored",
          "traceback": [
            "\u001b[0;31m---------------------------------------------------------------------------\u001b[0m",
            "\u001b[0;31mTypeError\u001b[0m                                 Traceback (most recent call last)",
            "\u001b[0;32m<ipython-input-49-ebfa8f9ff0bd>\u001b[0m in \u001b[0;36m<module>\u001b[0;34m\u001b[0m\n\u001b[1;32m      1\u001b[0m \u001b[0;31m# Atribuição gera erro tem tensorflow!\u001b[0m\u001b[0;34m\u001b[0m\u001b[0;34m\u001b[0m\u001b[0;34m\u001b[0m\u001b[0m\n\u001b[1;32m      2\u001b[0m \u001b[0mx\u001b[0m \u001b[0;34m=\u001b[0m \u001b[0mtf\u001b[0m\u001b[0;34m.\u001b[0m\u001b[0mones\u001b[0m\u001b[0;34m(\u001b[0m\u001b[0mshape\u001b[0m\u001b[0;34m=\u001b[0m\u001b[0;34m(\u001b[0m\u001b[0;36m2\u001b[0m\u001b[0;34m,\u001b[0m \u001b[0;36m2\u001b[0m\u001b[0;34m)\u001b[0m\u001b[0;34m)\u001b[0m\u001b[0;34m\u001b[0m\u001b[0;34m\u001b[0m\u001b[0m\n\u001b[0;32m----> 3\u001b[0;31m \u001b[0mx\u001b[0m\u001b[0;34m[\u001b[0m\u001b[0;36m0\u001b[0m\u001b[0;34m,\u001b[0m \u001b[0;36m0\u001b[0m\u001b[0;34m]\u001b[0m \u001b[0;34m=\u001b[0m \u001b[0;36m0.\u001b[0m\u001b[0;34m\u001b[0m\u001b[0;34m\u001b[0m\u001b[0m\n\u001b[0m",
            "\u001b[0;31mTypeError\u001b[0m: 'tensorflow.python.framework.ops.EagerTensor' object does not support item assignment"
          ]
        }
      ]
    },
    {
      "cell_type": "markdown",
      "source": [
        "### Variáveis"
      ],
      "metadata": {
        "id": "gA0obPzTVDMa"
      }
    },
    {
      "cell_type": "code",
      "source": [
        "v = tf.Variable(initial_value=4)"
      ],
      "metadata": {
        "id": "2o_ttQoaXcdz"
      },
      "execution_count": null,
      "outputs": []
    },
    {
      "cell_type": "code",
      "source": [
        "v.shape"
      ],
      "metadata": {
        "id": "sFxoWBnFXjjQ"
      },
      "execution_count": null,
      "outputs": []
    },
    {
      "cell_type": "code",
      "source": [
        "v = tf.Variable(initial_value=tf.random.normal(shape=(3, 2)))\n",
        "v"
      ],
      "metadata": {
        "id": "JO39tB-uU8H2"
      },
      "execution_count": null,
      "outputs": []
    },
    {
      "cell_type": "code",
      "source": [
        "v.shape"
      ],
      "metadata": {
        "colab": {
          "base_uri": "https://localhost:8080/",
          "height": 169
        },
        "id": "oDRT7O9wXrix",
        "outputId": "42c9d496-13dc-4939-e59d-5627e691cf8f"
      },
      "execution_count": 50,
      "outputs": [
        {
          "output_type": "error",
          "ename": "NameError",
          "evalue": "ignored",
          "traceback": [
            "\u001b[0;31m---------------------------------------------------------------------------\u001b[0m",
            "\u001b[0;31mNameError\u001b[0m                                 Traceback (most recent call last)",
            "\u001b[0;32m<ipython-input-50-a38eaa4fc0c3>\u001b[0m in \u001b[0;36m<module>\u001b[0;34m\u001b[0m\n\u001b[0;32m----> 1\u001b[0;31m \u001b[0mv\u001b[0m\u001b[0;34m.\u001b[0m\u001b[0mshape\u001b[0m\u001b[0;34m\u001b[0m\u001b[0;34m\u001b[0m\u001b[0m\n\u001b[0m",
            "\u001b[0;31mNameError\u001b[0m: name 'v' is not defined"
          ]
        }
      ]
    },
    {
      "cell_type": "code",
      "source": [
        "v.assign([[0,4],[1,4],[2,4]])"
      ],
      "metadata": {
        "id": "92w-OgBqXykn"
      },
      "execution_count": null,
      "outputs": []
    },
    {
      "cell_type": "code",
      "source": [
        "v[0].assign([3,3])"
      ],
      "metadata": {
        "colab": {
          "base_uri": "https://localhost:8080/",
          "height": 169
        },
        "id": "FjFy6CBvYGtm",
        "outputId": "41cf9286-6dfc-4e70-fa7e-574d60434bea"
      },
      "execution_count": 51,
      "outputs": [
        {
          "output_type": "error",
          "ename": "NameError",
          "evalue": "ignored",
          "traceback": [
            "\u001b[0;31m---------------------------------------------------------------------------\u001b[0m",
            "\u001b[0;31mNameError\u001b[0m                                 Traceback (most recent call last)",
            "\u001b[0;32m<ipython-input-51-747dcd7f1d3c>\u001b[0m in \u001b[0;36m<module>\u001b[0;34m\u001b[0m\n\u001b[0;32m----> 1\u001b[0;31m \u001b[0mv\u001b[0m\u001b[0;34m[\u001b[0m\u001b[0;36m0\u001b[0m\u001b[0;34m]\u001b[0m\u001b[0;34m.\u001b[0m\u001b[0massign\u001b[0m\u001b[0;34m(\u001b[0m\u001b[0;34m[\u001b[0m\u001b[0;36m3\u001b[0m\u001b[0;34m,\u001b[0m\u001b[0;36m3\u001b[0m\u001b[0;34m]\u001b[0m\u001b[0;34m)\u001b[0m\u001b[0;34m\u001b[0m\u001b[0;34m\u001b[0m\u001b[0m\n\u001b[0m",
            "\u001b[0;31mNameError\u001b[0m: name 'v' is not defined"
          ]
        }
      ]
    },
    {
      "cell_type": "code",
      "source": [
        "v[0,0].assign(7)"
      ],
      "metadata": {
        "id": "l5twg2ESYWQh"
      },
      "execution_count": null,
      "outputs": []
    },
    {
      "cell_type": "code",
      "source": [
        "v.assign_add(tf.ones((3, 2)))"
      ],
      "metadata": {
        "colab": {
          "base_uri": "https://localhost:8080/",
          "height": 169
        },
        "id": "jqvv_oVoY86z",
        "outputId": "3095174a-e180-4eb0-af41-c619295b3e08"
      },
      "execution_count": 52,
      "outputs": [
        {
          "output_type": "error",
          "ename": "NameError",
          "evalue": "ignored",
          "traceback": [
            "\u001b[0;31m---------------------------------------------------------------------------\u001b[0m",
            "\u001b[0;31mNameError\u001b[0m                                 Traceback (most recent call last)",
            "\u001b[0;32m<ipython-input-52-fcf54ec63391>\u001b[0m in \u001b[0;36m<module>\u001b[0;34m\u001b[0m\n\u001b[0;32m----> 1\u001b[0;31m \u001b[0mv\u001b[0m\u001b[0;34m.\u001b[0m\u001b[0massign_add\u001b[0m\u001b[0;34m(\u001b[0m\u001b[0mtf\u001b[0m\u001b[0;34m.\u001b[0m\u001b[0mones\u001b[0m\u001b[0;34m(\u001b[0m\u001b[0;34m(\u001b[0m\u001b[0;36m3\u001b[0m\u001b[0;34m,\u001b[0m \u001b[0;36m2\u001b[0m\u001b[0;34m)\u001b[0m\u001b[0;34m)\u001b[0m\u001b[0;34m)\u001b[0m\u001b[0;34m\u001b[0m\u001b[0;34m\u001b[0m\u001b[0m\n\u001b[0m",
            "\u001b[0;31mNameError\u001b[0m: name 'v' is not defined"
          ]
        }
      ]
    },
    {
      "cell_type": "markdown",
      "source": [
        "### Operações Matemáticas com Tensores"
      ],
      "metadata": {
        "id": "cQluEDrbW4_G"
      }
    },
    {
      "cell_type": "code",
      "source": [
        "a = tf.constant([[2, 2],[1,.5]])\n",
        "a"
      ],
      "metadata": {
        "colab": {
          "base_uri": "https://localhost:8080/"
        },
        "id": "HoBAB22QZPdv",
        "outputId": "9d0d0c4b-7a24-4dc2-a66b-8d4461dc984e"
      },
      "execution_count": 53,
      "outputs": [
        {
          "output_type": "execute_result",
          "data": {
            "text/plain": [
              "<tf.Tensor: shape=(2, 2), dtype=float32, numpy=\n",
              "array([[2. , 2. ],\n",
              "       [1. , 0.5]], dtype=float32)>"
            ]
          },
          "metadata": {},
          "execution_count": 53
        }
      ]
    },
    {
      "cell_type": "code",
      "source": [
        "b = tf.square(a)\n",
        "b"
      ],
      "metadata": {
        "colab": {
          "base_uri": "https://localhost:8080/"
        },
        "id": "tK55wmjsaFSs",
        "outputId": "91a20b4b-3050-474f-ea65-f1e6717e28ae"
      },
      "execution_count": 54,
      "outputs": [
        {
          "output_type": "execute_result",
          "data": {
            "text/plain": [
              "<tf.Tensor: shape=(2, 2), dtype=float32, numpy=\n",
              "array([[4.  , 4.  ],\n",
              "       [1.  , 0.25]], dtype=float32)>"
            ]
          },
          "metadata": {},
          "execution_count": 54
        }
      ]
    },
    {
      "cell_type": "code",
      "source": [
        "c = tf.sqrt(a) \n",
        "c"
      ],
      "metadata": {
        "colab": {
          "base_uri": "https://localhost:8080/"
        },
        "id": "f9u1oH2RaKgp",
        "outputId": "ca74b214-ada2-41e9-f3b9-ddb4c3db2655"
      },
      "execution_count": 55,
      "outputs": [
        {
          "output_type": "execute_result",
          "data": {
            "text/plain": [
              "<tf.Tensor: shape=(2, 2), dtype=float32, numpy=\n",
              "array([[1.4142135 , 1.4142135 ],\n",
              "       [1.        , 0.70710677]], dtype=float32)>"
            ]
          },
          "metadata": {},
          "execution_count": 55
        }
      ]
    },
    {
      "cell_type": "code",
      "source": [
        "d = b + c \n",
        "d"
      ],
      "metadata": {
        "colab": {
          "base_uri": "https://localhost:8080/"
        },
        "id": "QNY6zRixaBre",
        "outputId": "4c47ab42-cd82-4885-834e-57575d09c133"
      },
      "execution_count": 56,
      "outputs": [
        {
          "output_type": "execute_result",
          "data": {
            "text/plain": [
              "<tf.Tensor: shape=(2, 2), dtype=float32, numpy=\n",
              "array([[5.4142137 , 5.4142137 ],\n",
              "       [2.        , 0.95710677]], dtype=float32)>"
            ]
          },
          "metadata": {},
          "execution_count": 56
        }
      ]
    },
    {
      "cell_type": "code",
      "source": [
        "e = tf.matmul(a, b) # alternativa a@b\n",
        "e"
      ],
      "metadata": {
        "colab": {
          "base_uri": "https://localhost:8080/"
        },
        "id": "yO-tOPpAZIWz",
        "outputId": "1223ef02-57c6-48f5-e536-0e4038c7271f"
      },
      "execution_count": 57,
      "outputs": [
        {
          "output_type": "execute_result",
          "data": {
            "text/plain": [
              "<tf.Tensor: shape=(2, 2), dtype=float32, numpy=\n",
              "array([[10.   ,  8.5  ],\n",
              "       [ 4.5  ,  4.125]], dtype=float32)>"
            ]
          },
          "metadata": {},
          "execution_count": 57
        }
      ]
    },
    {
      "cell_type": "code",
      "source": [
        "e *= d\n",
        "e"
      ],
      "metadata": {
        "colab": {
          "base_uri": "https://localhost:8080/"
        },
        "id": "3BIysuYlaP6P",
        "outputId": "d79aa395-c600-467e-b32a-4e6039b93267"
      },
      "execution_count": 58,
      "outputs": [
        {
          "output_type": "execute_result",
          "data": {
            "text/plain": [
              "<tf.Tensor: shape=(2, 2), dtype=float32, numpy=\n",
              "array([[54.142136 , 46.020817 ],\n",
              "       [ 9.       ,  3.9480655]], dtype=float32)>"
            ]
          },
          "metadata": {},
          "execution_count": 58
        }
      ]
    },
    {
      "cell_type": "code",
      "source": [
        "print(tf.add(a, b), \"\\n\")\n",
        "print(tf.multiply(a, b), \"\\n\")\n",
        "print(a @ b, \"\\n\")\n",
        "print(tf.matmul(a,b), \"\\n\")"
      ],
      "metadata": {
        "colab": {
          "base_uri": "https://localhost:8080/"
        },
        "id": "NEmkqn0vXCPG",
        "outputId": "42b73d8b-0338-4a49-c773-54af15a1823e"
      },
      "execution_count": 59,
      "outputs": [
        {
          "output_type": "stream",
          "name": "stdout",
          "text": [
            "tf.Tensor(\n",
            "[[6.   6.  ]\n",
            " [2.   0.75]], shape=(2, 2), dtype=float32) \n",
            "\n",
            "tf.Tensor(\n",
            "[[8.    8.   ]\n",
            " [1.    0.125]], shape=(2, 2), dtype=float32) \n",
            "\n",
            "tf.Tensor(\n",
            "[[10.     8.5  ]\n",
            " [ 4.5    4.125]], shape=(2, 2), dtype=float32) \n",
            "\n",
            "tf.Tensor(\n",
            "[[10.     8.5  ]\n",
            " [ 4.5    4.125]], shape=(2, 2), dtype=float32) \n",
            "\n"
          ]
        }
      ]
    },
    {
      "cell_type": "markdown",
      "source": [
        "### Gradientes"
      ],
      "metadata": {
        "id": "nGm5F8mYVH4j"
      }
    },
    {
      "cell_type": "markdown",
      "source": [
        "GradientTape permite calculara a derivada de uma dada função em relação a uma de suas variáveis"
      ],
      "metadata": {
        "id": "HY9X5SfKdc7b"
      }
    },
    {
      "cell_type": "code",
      "source": [
        "x = tf.linspace(-2, 5, 200+1)\n",
        "\n",
        "with tf.GradientTape() as tape:\n",
        "  tape.watch(x)\n",
        "  #f = tf.nn.sigmoid(x)\n",
        "  #f = tf.math.pow(x,3)\n",
        "  #f = tf.tanh(x)\n",
        "  #f = tf.nn.softsign(x)\n",
        "  f = x**2-3*x\n",
        "\n",
        "df_dx = tape.gradient(f, x)\n",
        "fig, axes = plt.subplots(ncols=2,figsize=(16,4))\n",
        "axes[0].plot(x, f, label='f(x)')\n",
        "axes[1].plot(x, df_dx, label='df/dx',color='red')\n",
        "axes[0].legend()\n",
        "axes[1].legend()\n",
        "axes[0].set_xlabel('x')\n",
        "axes[1].set_xlabel('x')\n",
        "axes[0].set_ylabel('f(x)')\n",
        "axes[1].set_ylabel('df(x)')\n",
        "plt.show()"
      ],
      "metadata": {
        "colab": {
          "base_uri": "https://localhost:8080/",
          "height": 279
        },
        "id": "lZI2_H57bD95",
        "outputId": "83b9b9e5-4ab2-468f-86c1-d83aa951aae1"
      },
      "execution_count": 60,
      "outputs": [
        {
          "output_type": "display_data",
          "data": {
            "text/plain": [
              "<Figure size 1152x288 with 2 Axes>"
            ],
            "image/png": "[encoded data removed]"
          },
          "metadata": {
            "needs_background": "light"
          }
        }
      ]
    },
    {
      "cell_type": "markdown",
      "source": [
        "Também é possível calcular a derivada de segunda ordem"
      ],
      "metadata": {
        "id": "Eiu_VGd2dFsH"
      }
    },
    {
      "cell_type": "code",
      "source": [
        "x = tf.linspace(-2, 5, 200+1)\n",
        "\n",
        "with tf.GradientTape() as tape_2:\n",
        "  tape_2.watch(x)\n",
        "  with tf.GradientTape() as tape_1:\n",
        "    tape_1.watch(x)\n",
        "    #f = tf.nn.sigmoid(x)\n",
        "    #f = tf.math.pow(x,3)\n",
        "    #f = tf.tanh(x)\n",
        "    #f = tf.nn.softsign(x)\n",
        "    f = x**2-3*x\n",
        "  df_dx = tape_1.gradient(f, x)\n",
        "df2_dx = tape_2.gradient(df_dx, x)\n",
        "\n",
        "fig, axes = plt.subplots(ncols=3,figsize=(16,4))\n",
        "axes[0].plot(x, f, label='f(x)')\n",
        "axes[1].plot(x, df_dx, label='df/dx',color='red')\n",
        "axes[2].plot(x, df2_dx, label='df2/dx',color='gray')\n",
        "axes[0].set_xlabel('x')\n",
        "axes[1].set_xlabel('x')\n",
        "axes[2].set_xlabel('x')\n",
        "axes[0].set_ylabel('f(x)')\n",
        "axes[1].set_ylabel('df(x)')\n",
        "axes[2].set_ylabel('df2(x)')\n",
        "axes[0].legend()\n",
        "axes[1].legend()\n",
        "axes[2].legend()\n",
        "plt.show()"
      ],
      "metadata": {
        "colab": {
          "base_uri": "https://localhost:8080/",
          "height": 279
        },
        "id": "saMPNZnTdCrt",
        "outputId": "a2161d0c-660b-4547-b9c4-e25320cedcc9"
      },
      "execution_count": 61,
      "outputs": [
        {
          "output_type": "display_data",
          "data": {
            "text/plain": [
              "<Figure size 1152x288 with 3 Axes>"
            ],
            "image/png": "[encoded data removed]"
          },
          "metadata": {
            "needs_background": "light"
          }
        }
      ]
    },
    {
      "cell_type": "markdown",
      "source": [
        "O GradientTape é utilizado para calcular a derivada da função de custo durante o treinamento de redes neurais"
      ],
      "metadata": {
        "id": "0V2te6pmdzAq"
      }
    },
    {
      "cell_type": "markdown",
      "source": [
        "# TF Keras"
      ],
      "metadata": {
        "id": "yRAMXZCvEFCj"
      }
    },
    {
      "cell_type": "markdown",
      "source": [
        "**Keras** é uma API de alto nível desenvolvido para facilitar o uso de tensorflow. Keras foi lançado em 2015, e inicialmente foi desenvolvido sobre o Theano, outra\n",
        "biblioteca para manipulação de tensores que também tem diferenciação automática de\n",
        "funções. Em 2018 o Keras foi escolhido pelo Tensoflow como sua API de alto nível oficial."
      ],
      "metadata": {
        "id": "HRhfCekJF9lt"
      }
    },
    {
      "cell_type": "markdown",
      "source": [
        "![keras-tf.png](data:image/png;base64,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)"
      ],
      "metadata": {
        "id": "8rYHV3cVXjo-"
      }
    },
    {
      "cell_type": "markdown",
      "source": [
        "## Layers"
      ],
      "metadata": {
        "id": "6sEsp2aRIWYf"
      }
    },
    {
      "cell_type": "markdown",
      "source": [
        "Camadas são unidades de processamento no Keras que recebem um tensor de entrada e produzem outro tensor de saída. Os pesos de uma camada são aprendidos durante o treinamento da rede."
      ],
      "metadata": {
        "id": "AnYUe_NlLEo2"
      }
    },
    {
      "cell_type": "code",
      "source": [
        "from tensorflow import keras\n",
        "from keras import layers"
      ],
      "metadata": {
        "id": "yN6ewYRdMRns"
      },
      "execution_count": 62,
      "outputs": []
    },
    {
      "cell_type": "code",
      "source": [
        "class SimpleDense(keras.layers.Layer): \n",
        "  def __init__(self, units, activation=None):\n",
        "    super().__init__()\n",
        "    self.units = units\n",
        "    self.activation = activation\n",
        "  def build(self, input_shape): \n",
        "    input_dim = input_shape[-1]\n",
        "    self.W = self.add_weight(shape=(input_dim, self.units), \n",
        "    initializer=\"random_normal\")\n",
        "    self.b = self.add_weight(shape=(self.units,),\n",
        "    initializer=\"zeros\")\n",
        "  def call(self, inputs): \n",
        "    y = tf.matmul(inputs, self.W) + self.b\n",
        "    if self.activation is not None:\n",
        "      y = self.activation(y)\n",
        "    return y"
      ],
      "metadata": {
        "id": "z5uIKMlcLnfI"
      },
      "execution_count": 63,
      "outputs": []
    },
    {
      "cell_type": "code",
      "source": [
        "my_dense = SimpleDense(units=32, activation=tf.nn.relu) \n",
        "input_tensor = tf.ones(shape=(2, 784)) \n",
        "output_tensor = my_dense(input_tensor)"
      ],
      "metadata": {
        "id": "Dl9o9G6WMLrs"
      },
      "execution_count": 64,
      "outputs": []
    },
    {
      "cell_type": "code",
      "source": [
        "print(output_tensor.shape)"
      ],
      "metadata": {
        "id": "3na8QsTJVvdw",
        "colab": {
          "base_uri": "https://localhost:8080/"
        },
        "outputId": "fcf8d17b-984e-41dc-ae98-294d5271b286"
      },
      "execution_count": 65,
      "outputs": [
        {
          "output_type": "stream",
          "name": "stdout",
          "text": [
            "(2, 32)\n"
          ]
        }
      ]
    },
    {
      "cell_type": "markdown",
      "source": [
        "O formato da entrada é descoberto de modo automático, não é ncessário informar. \n"
      ],
      "metadata": {
        "id": "BONh22fwNfxG"
      }
    },
    {
      "cell_type": "code",
      "source": [
        "from tensorflow.keras import layers\n",
        "layer = layers.Dense(units=32, activation=\"relu\") "
      ],
      "metadata": {
        "id": "7arLd4RsNxbp"
      },
      "execution_count": 66,
      "outputs": []
    },
    {
      "cell_type": "code",
      "source": [
        "output = layer(input_tensor) # input_shape detectado automáticamente"
      ],
      "metadata": {
        "id": "0_NMvwjYOH9q"
      },
      "execution_count": 67,
      "outputs": []
    },
    {
      "cell_type": "code",
      "source": [
        "output.shape"
      ],
      "metadata": {
        "colab": {
          "base_uri": "https://localhost:8080/"
        },
        "id": "RIp_BZ6COcMJ",
        "outputId": "301b127b-413a-4ccc-93a2-dbd5c937e124"
      },
      "execution_count": 68,
      "outputs": [
        {
          "output_type": "execute_result",
          "data": {
            "text/plain": [
              "TensorShape([2, 32])"
            ]
          },
          "metadata": {},
          "execution_count": 68
        }
      ]
    },
    {
      "cell_type": "markdown",
      "source": [
        "## Model"
      ],
      "metadata": {
        "id": "RLfdejgxV-Q2"
      }
    },
    {
      "cell_type": "markdown",
      "source": [
        "Uma rede neural em Keras é um grafo de camadas represendado pela classe Model. \n",
        "O modelo mais simples é o Sequential, mas o Keras permite\n",
        "a definição de modelos com topologia complexa, não-sequencial."
      ],
      "metadata": {
        "id": "sUcypjA1PfdK"
      }
    },
    {
      "cell_type": "markdown",
      "source": [
        "> Picking the **right network** architecture is more an art than a science, and although\n",
        "there are some best practices and principles you can rely on, only practice can help\n",
        "you become a proper neural-network architect\" -- (Chollet, Cap. 3, p. 87)"
      ],
      "metadata": {
        "id": "ruU0YL1EQFmw"
      }
    },
    {
      "cell_type": "markdown",
      "source": [
        "Exemplo de modelo sequencial"
      ],
      "metadata": {
        "id": "9h_Gq055QtzP"
      }
    },
    {
      "cell_type": "code",
      "source": [
        "model = keras.Sequential([\n",
        " layers.Dense(512, activation=\"relu\"),\n",
        " layers.Dense(10, activation=\"softmax\")\n",
        "])"
      ],
      "metadata": {
        "id": "2yPqmpn9Vx-J"
      },
      "execution_count": 69,
      "outputs": []
    },
    {
      "cell_type": "markdown",
      "source": [
        "Exemplos de modelos não-sequenciais:\n",
        "- Multiheads\n",
        "- Two branches\n",
        "- Residuals"
      ],
      "metadata": {
        "id": "g9G-kuTKQnxj"
      }
    },
    {
      "cell_type": "markdown",
      "source": [
        "## Compilação"
      ],
      "metadata": {
        "id": "qvwBU30aWND1"
      }
    },
    {
      "cell_type": "markdown",
      "source": [
        "O método compile() configura o processo de treinamento. Geralmente são informados:\n",
        "- o otimizador, \n",
        "- a função de custo e \n",
        "- as métricas a serem utilizados no\n",
        "treinamento."
      ],
      "metadata": {
        "id": "jzjiJQFhRad_"
      }
    },
    {
      "cell_type": "code",
      "source": [
        "model.compile(optimizer=\"rmsprop\",\n",
        " loss=\"sparse_categorical_crossentropy\",\n",
        " metrics=[\"accuracy\"])"
      ],
      "metadata": {
        "id": "jlmSA57rX8ur"
      },
      "execution_count": 70,
      "outputs": []
    },
    {
      "cell_type": "markdown",
      "source": [
        "# Keras Datasets"
      ],
      "metadata": {
        "id": "SuBdSUInRDG6"
      }
    },
    {
      "cell_type": "markdown",
      "source": [
        "O Keras tem uma pequena coleção de datasets\n",
        "- MNIST digits classification dataset.\n",
        "- CIFAR10 small images classification dataset.\n",
        "- CIFAR100 small images classification dataset.\n",
        "- IMDB movie review sentiment classification dataset.\n",
        "- Reuters newswire classification dataset.\n",
        "- Fashion MNIST dataset, an alternative to MNIST.\n",
        "- Boston Housing price regression dataset.\n",
        "\n",
        "Para uma coleção mais completa, você pode utilizar o TF Datasets, que apresenta uma larga quantidade de datasets de exemplo\n",
        "\n",
        "https://www.tensorflow.org/datasets/catalog/overview"
      ],
      "metadata": {
        "id": "cO_9LKpQtv_8"
      }
    },
    {
      "cell_type": "markdown",
      "source": [
        "Usaremos o dataset MNIST "
      ],
      "metadata": {
        "id": "KrGqJZUTRlUh"
      }
    },
    {
      "cell_type": "code",
      "source": [
        "from tensorflow.keras.datasets import mnist\n",
        "(train_images, train_labels), (test_images, test_labels) = mnist.load_data()"
      ],
      "metadata": {
        "id": "ychPUrsAUJMw"
      },
      "execution_count": 73,
      "outputs": []
    },
    {
      "cell_type": "markdown",
      "source": [
        "O dataset MNIST possui 70 mil exemplos de dígitos escritos à mão, com forma de 784 pixels de imagens 28x28"
      ],
      "metadata": {
        "id": "-t4gEQdpRqEp"
      }
    },
    {
      "cell_type": "code",
      "source": [
        "print(train_images.shape)\n",
        "print(test_images.shape)"
      ],
      "metadata": {
        "colab": {
          "base_uri": "https://localhost:8080/"
        },
        "id": "2T9fOdyCUwzS",
        "outputId": "94127fe9-a4e6-45e0-deb3-4bdf4748c7f5"
      },
      "execution_count": 74,
      "outputs": [
        {
          "output_type": "stream",
          "name": "stdout",
          "text": [
            "(60000, 28, 28)\n",
            "(10000, 28, 28)\n"
          ]
        }
      ]
    },
    {
      "cell_type": "markdown",
      "source": [
        "Vamos visualizar alguns exemplos deste dataset\n",
        " \n",
        "\n"
      ],
      "metadata": {
        "id": "RPMCUtPZRfgn"
      }
    },
    {
      "cell_type": "markdown",
      "source": [
        "**Nota** Os rótulo no dataset do tensorflow são do tipo int"
      ],
      "metadata": {
        "id": "IucSC6iSVf4x"
      }
    },
    {
      "cell_type": "markdown",
      "source": [
        "Precisamos modificar os dados para que os valores sejam reescalados entre 0 e 1"
      ],
      "metadata": {
        "id": "yFN1qtwUYBlJ"
      }
    },
    {
      "cell_type": "code",
      "source": [
        "train_images = train_images.reshape((60000, 28 * 28))\n",
        "train_images = train_images.astype(\"float32\") / 255\n",
        "test_images = test_images.reshape((10000, 28 * 28))\n",
        "test_images = test_images.astype(\"float32\") / 255"
      ],
      "metadata": {
        "id": "p3-hNpjtYV2D"
      },
      "execution_count": 75,
      "outputs": []
    },
    {
      "cell_type": "code",
      "source": [
        "fig,axes = plt.subplots(nrows=4,ncols=8,figsize=(16,10))\n",
        "for ax_r in axes:\n",
        "  for ax in ax_r:\n",
        "    r = random.randint(0,len(train_labels))\n",
        "    some_digit_image =train_images[r].reshape(28,28)\n",
        "    ax.imshow(X=some_digit_image, cmap = mpl.cm.binary, interpolation=\"nearest\")\n",
        "    ax.set_title(\"True label: \"+str(train_labels[r]))\n",
        "    ax.axis(\"off\")\n",
        "#plt.axis(\"off\")\n",
        "plt.show()"
      ],
      "metadata": {
        "colab": {
          "base_uri": "https://localhost:8080/",
          "height": 567
        },
        "id": "U5xjdf9XUNvn",
        "outputId": "196b61cd-c168-497c-9f6f-e0fd29e38f05"
      },
      "execution_count": 76,
      "outputs": [
        {
          "output_type": "display_data",
          "data": {
            "text/plain": [
              "<Figure size 1152x720 with 32 Axes>"
            ],
            "image/png": "[encoded data removed]"
          },
          "metadata": {
            "needs_background": "light"
          }
        }
      ]
    },
    {
      "cell_type": "markdown",
      "source": [
        "# Treinamento"
      ],
      "metadata": {
        "id": "6DuzY5VUYy0u"
      }
    },
    {
      "cell_type": "code",
      "source": [
        "history = model.fit(train_images, train_labels, epochs=10, batch_size=128)"
      ],
      "metadata": {
        "colab": {
          "base_uri": "https://localhost:8080/"
        },
        "id": "7uQ-CO7oY8FO",
        "outputId": "0b48966a-c75b-41a3-e5e5-93c71915d848"
      },
      "execution_count": 77,
      "outputs": [
        {
          "output_type": "stream",
          "name": "stdout",
          "text": [
            "Epoch 1/10\n",
            "469/469 [==============================] - 2s 3ms/step - loss: 0.2604 - accuracy: 0.9238\n",
            "Epoch 2/10\n",
            "469/469 [==============================] - 1s 3ms/step - loss: 0.1049 - accuracy: 0.9693\n",
            "Epoch 3/10\n",
            "469/469 [==============================] - 1s 3ms/step - loss: 0.0691 - accuracy: 0.9792\n",
            "Epoch 4/10\n",
            "469/469 [==============================] - 1s 3ms/step - loss: 0.0505 - accuracy: 0.9851\n",
            "Epoch 5/10\n",
            "469/469 [==============================] - 1s 3ms/step - loss: 0.0387 - accuracy: 0.9890\n",
            "Epoch 6/10\n",
            "469/469 [==============================] - 1s 3ms/step - loss: 0.0292 - accuracy: 0.9912\n",
            "Epoch 7/10\n",
            "469/469 [==============================] - 1s 3ms/step - loss: 0.0223 - accuracy: 0.9936\n",
            "Epoch 8/10\n",
            "469/469 [==============================] - 1s 3ms/step - loss: 0.0182 - accuracy: 0.9948\n",
            "Epoch 9/10\n",
            "469/469 [==============================] - 1s 3ms/step - loss: 0.0139 - accuracy: 0.9961\n",
            "Epoch 10/10\n",
            "469/469 [==============================] - 1s 3ms/step - loss: 0.0105 - accuracy: 0.9970\n"
          ]
        }
      ]
    },
    {
      "cell_type": "code",
      "source": [
        "fig, axes = plt.subplots(ncols=2, figsize=(12,4))\n",
        "axes[0].plot(history.history['loss'],color='red')\n",
        "axes[0].set_title(\"Gráfico da função de custo durante o treinamento\")\n",
        "axes[0].set_xlabel(\"Epoca\")\n",
        "axes[0].set_ylabel(\"Loss\")\n",
        "axes[1].plot(history.history['accuracy'])\n",
        "axes[1].set_title(\"Gráfico da acurácia durante o treinamento\")\n",
        "axes[1].set_xlabel(\"Epoca\")\n",
        "axes[1].set_ylabel(\"Acurácia\")\n",
        "plt.show()"
      ],
      "metadata": {
        "colab": {
          "base_uri": "https://localhost:8080/",
          "height": 295
        },
        "id": "c6WiBHU1XsdC",
        "outputId": "cb8f64cc-2585-4c3e-e0f1-fba95b246daa"
      },
      "execution_count": 78,
      "outputs": [
        {
          "output_type": "display_data",
          "data": {
            "text/plain": [
              "<Figure size 864x288 with 2 Axes>"
            ],
            "image/png": "[encoded data removed]"
          },
          "metadata": {
            "needs_background": "light"
          }
        }
      ]
    },
    {
      "cell_type": "code",
      "source": [
        "model.summary()"
      ],
      "metadata": {
        "colab": {
          "base_uri": "https://localhost:8080/"
        },
        "id": "-zwnvCEnX-Z0",
        "outputId": "d81a75d5-dc26-4681-a04c-fe6202a7e067"
      },
      "execution_count": 79,
      "outputs": [
        {
          "output_type": "stream",
          "name": "stdout",
          "text": [
            "Model: \"sequential\"\n",
            "_________________________________________________________________\n",
            " Layer (type)                Output Shape              Param #   \n",
            "=================================================================\n",
            " dense_1 (Dense)             (None, 512)               401920    \n",
            "                                                                 \n",
            " dense_2 (Dense)             (None, 10)                5130      \n",
            "                                                                 \n",
            "=================================================================\n",
            "Total params: 407,050\n",
            "Trainable params: 407,050\n",
            "Non-trainable params: 0\n",
            "_________________________________________________________________\n"
          ]
        }
      ]
    },
    {
      "cell_type": "code",
      "source": [
        "keras.utils.plot_model(model,show_shapes=True)"
      ],
      "metadata": {
        "colab": {
          "base_uri": "https://localhost:8080/",
          "height": 312
        },
        "id": "XHFrbl1hYCkL",
        "outputId": "0b282308-b969-4f46-d6c2-4870f0bd4754"
      },
      "execution_count": 80,
      "outputs": [
        {
          "output_type": "execute_result",
          "data": {
            "image/png": "[encoded data removed]",
            "text/plain": [
              "<IPython.core.display.Image object>"
            ]
          },
          "metadata": {},
          "execution_count": 80
        }
      ]
    },
    {
      "cell_type": "markdown",
      "source": [
        "# Referências"
      ],
      "metadata": {
        "id": "CXtCo3iFYbKt"
      }
    },
    {
      "cell_type": "markdown",
      "source": [
        "- CHOLLET, F. (2021) \"Deep Learning with Python, Tensorflow and Keras\", 2nd. Ed. Manning."
      ],
      "metadata": {
        "id": "O-ZdTInoYdew"
      }
    }
  ]
}